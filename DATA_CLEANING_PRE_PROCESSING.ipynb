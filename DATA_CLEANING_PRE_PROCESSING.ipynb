{
  "nbformat": 4,
  "nbformat_minor": 0,
  "metadata": {
    "colab": {
      "name": "Arizona_AADT_EST.ipynb",
      "provenance": [],
      "toc_visible": true
    },
    "kernelspec": {
      "name": "python3",
      "display_name": "Python 3"
    }
  },
  "cells": [
    {
      "cell_type": "markdown",
      "metadata": {
        "id": "59bsU7BhLcQ-"
      },
      "source": [
        "# Uploading the files\n"
      ]
    },
    {
      "cell_type": "code",
      "metadata": {
        "colab": {
          "resources": {
            "http://localhost:8080/nbextensions/google.colab/files.js": {
              "data": "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",
              "ok": true,
              "headers": [
                [
                  "content-type",
                  "application/javascript"
                ]
              ],
              "status": 200,
              "status_text": ""
            }
          },
          "base_uri": "https://localhost:8080/",
          "height": 73
        },
        "id": "l5Zihim8Bctr",
        "outputId": "f0c9d91a-ee07-4b96-807a-1fae4aa0bd26"
      },
      "source": [
        "from google.colab import files\n",
        "uploaded = files.upload()\n"
      ],
      "execution_count": null,
      "outputs": [
        {
          "output_type": "display_data",
          "data": {
            "text/html": [
              "\n",
              "     <input type=\"file\" id=\"files-dac531cc-c7a1-4db3-b027-c6551675c4e9\" name=\"files[]\" multiple disabled\n",
              "        style=\"border:none\" />\n",
              "     <output id=\"result-dac531cc-c7a1-4db3-b027-c6551675c4e9\">\n",
              "      Upload widget is only available when the cell has been executed in the\n",
              "      current browser session. Please rerun this cell to enable.\n",
              "      </output>\n",
              "      <script src=\"/nbextensions/google.colab/files.js\"></script> "
            ],
            "text/plain": [
              "<IPython.core.display.HTML object>"
            ]
          },
          "metadata": {
            "tags": []
          }
        },
        {
          "output_type": "stream",
          "text": [
            "Saving TUS_amazon_csv.csv to TUS_amazon_csv.csv\n"
          ],
          "name": "stdout"
        }
      ]
    },
    {
      "cell_type": "code",
      "metadata": {
        "id": "KYmGGS53Ahy6"
      },
      "source": [
        "import numpy as np\n",
        "import pandas as pd\n"
      ],
      "execution_count": null,
      "outputs": []
    },
    {
      "cell_type": "markdown",
      "metadata": {
        "id": "QNlcFq0tLPkK"
      },
      "source": [
        "# Extracting the land use data\n",
        "lU/# of busstation/# of school,university,library/# of shops,malls/ # of banks/# of restaurants,bars/# of recrational centres,gyms/ # of convenience stores/# of Hospitals,clinics"
      ]
    },
    {
      "cell_type": "code",
      "metadata": {
        "id": "dyJ7r5vNAz5K"
      },
      "source": [
        "def features_lu():\n",
        "\n",
        "  num_loc = 94  #number of intersections\n",
        "  num_data = 0  #number of all of the data points\n",
        "  #140\n",
        "  interested_col1 = [132,133,134,135,136,137,138,139,140]#extracting the interested columns\n",
        "  interested_col1 = list(np.asarray(interested_col1) - 1) #python numbering is starting from 0\n",
        "  #124\n",
        "  interested_col2 = [116,117,118,119,120,121,122,123,124]#extracting the interested columns\n",
        "  interested_col2 = list(np.asarray(interested_col2) - 1) #python numbering is starting from 0\n",
        "  #44\n",
        "  interested_col3 = [36,37,38,39,40,41,42,43,44]#extracting the interested columns\n",
        "  interested_col3 = list(np.asarray(interested_col3) - 1) #python numbering is starting from 0\n",
        "  fe = np.empty(0)\n",
        "  for i in range(1,num_loc+1):\n",
        "      \n",
        "      \n",
        "      # Order of the columns are different in some intersections\n",
        "    if i == 3 or i == 4 or i == 20 or i == 27 or i == 32 or i == 53 or i == 56 or i == 59 or i == 71 or i == 93 or i == 94 :\n",
        "          f1 = str(i) + \".csv\"\n",
        "          intersection_fe = np.genfromtxt(f1, delimiter=',',skip_header=1,usecols=interested_col2,filling_values=0, )\n",
        "          num_rows = intersection_fe.shape[0]\n",
        "          intersection_fe_ = np.tile(intersection_fe[0],(num_rows,1))\n",
        "          num_data = num_data + num_rows\n",
        "          fe = np.append(fe,intersection_fe_)\n",
        "    elif i == 58 or i == 2 :\n",
        "          f2 = str(i) + \".csv\"\n",
        "          intersection_fe = np.genfromtxt(f2, delimiter=',',skip_header=1,usecols=interested_col3,filling_values=0, )\n",
        "          num_rows = intersection_fe.shape[0]\n",
        "          intersection_fe_ = np.tile(intersection_fe[0],(num_rows,1))\n",
        "          num_data = num_data + num_rows\n",
        "          fe = np.append(fe,intersection_fe_)\n",
        "    else:\n",
        "          f3 = str(i) + \".csv\"\n",
        "          intersection_fe = np.genfromtxt(f3, delimiter=',',skip_header=1,usecols=interested_col1,filling_values=0, )\n",
        "          num_rows = intersection_fe.shape[0]\n",
        "          intersection_fe_ = np.tile(intersection_fe[0],(num_rows,1))\n",
        "          num_data = num_data + num_rows\n",
        "          fe = np.append(fe,intersection_fe_)\n",
        "            \n",
        "\n",
        "  fe = fe.reshape(num_data,len(interested_col1))\n",
        "  return fe \n",
        "  \n",
        "\n"
      ],
      "execution_count": null,
      "outputs": []
    },
    {
      "cell_type": "markdown",
      "metadata": {
        "id": "F-OZEmhpLoG-"
      },
      "source": [
        "# Extracting the daily number of pedestrians\n",
        "dp"
      ]
    },
    {
      "cell_type": "code",
      "metadata": {
        "id": "zNo1FstTsL5F"
      },
      "source": [
        "def features_dp():\n",
        "\n",
        "  num_loc = 94  #number of intersections\n",
        "  num_data = 0  #number of all of the data points\n",
        "  \n",
        "  #140\n",
        "  interested_col1 = [124]#extracting the interested columns\n",
        "  interested_col1 = list(np.asarray(interested_col1) - 1) #python numbering is starting from 0\n",
        "  #124\n",
        "  interested_col2 = [108]#extracting the interested columns\n",
        "  interested_col2 = list(np.asarray(interested_col2) - 1) #python numbering is starting from 0\n",
        "  #44\n",
        "  interested_col3 = [28]#extracting the interested columns\n",
        "  interested_col3 = list(np.asarray(interested_col3) - 1) #python numbering is starting from 0\n",
        "  fe = np.empty(0)\n",
        "  for i in range(1,num_loc+1):\n",
        "      \n",
        "      \n",
        "      # Order of the columns are different in some intersections\n",
        "    if i == 3 or i == 4 or i == 20 or i == 27 or i == 32 or i == 53 or i == 56 or i == 59 or i == 71 or i == 93 or i == 94 :\n",
        "          f1 = str(i) + \".csv\"\n",
        "          intersection_fe = np.genfromtxt(f1, delimiter=',',skip_header=1,usecols=interested_col2,filling_values=-1, )\n",
        "          num_rows = intersection_fe.shape[0]\n",
        "          num_data = num_data + num_rows\n",
        "          fe = np.append(fe,intersection_fe)\n",
        "    elif i == 58 or i == 2 :\n",
        "          f2 = str(i) + \".csv\"\n",
        "          intersection_fe = np.genfromtxt(f2, delimiter=',',skip_header=1,usecols=interested_col3,filling_values=-1, )\n",
        "          num_rows = intersection_fe.shape[0]\n",
        "          num_data = num_data + num_rows\n",
        "          fe = np.append(fe,intersection_fe)\n",
        "    else:\n",
        "          f3 = str(i) + \".csv\"\n",
        "          intersection_fe = np.genfromtxt(f3, delimiter=',',skip_header=1,usecols=interested_col1,filling_values=-1, )\n",
        "          num_rows = intersection_fe.shape[0]\n",
        "          num_data = num_data + num_rows\n",
        "          fe = np.append(fe,intersection_fe)\n",
        "            \n",
        "\n",
        "  fe = fe.reshape(num_data,len(interested_col1))\n",
        "  return fe \n",
        "  \n",
        "\n"
      ],
      "execution_count": null,
      "outputs": []
    },
    {
      "cell_type": "code",
      "metadata": {
        "colab": {
          "base_uri": "https://localhost:8080/"
        },
        "id": "1PcJH5VxvTSs",
        "outputId": "ebe88ae3-3dad-4fa8-9524-728a78a51408"
      },
      "source": [
        "dp = features_dp()\n",
        "print(dp.shape)\n",
        "np.savetxt('test.csv', dp, delimiter=',', fmt='%s',  )\n",
        "print(dp)"
      ],
      "execution_count": null,
      "outputs": [
        {
          "output_type": "stream",
          "text": [
            "(21293, 1)\n",
            "[[ 0.]\n",
            " [ 5.]\n",
            " [10.]\n",
            " ...\n",
            " [17.]\n",
            " [10.]\n",
            " [11.]]\n"
          ],
          "name": "stdout"
        }
      ]
    },
    {
      "cell_type": "markdown",
      "metadata": {
        "id": "E2dyqJf-5o8e"
      },
      "source": [
        "# Extracting the dates\n",
        "month/ day/ dow\n"
      ]
    },
    {
      "cell_type": "code",
      "metadata": {
        "id": "qtMtj8aN1YML"
      },
      "source": [
        "def features_date():\n",
        "\n",
        "  num_loc = 94  #number of intersections\n",
        "  num_data = 0  #number of all of the data points\n",
        "  \n",
        "  #140\n",
        "  interested_col1 = [4,5,6]#extracting the interested columns\n",
        "  interested_col1 = list(np.asarray(interested_col1) - 1) #python numbering is starting from 0\n",
        "  #124\n",
        "  interested_col2 = [4,5,6]#extracting the interested columns\n",
        "  interested_col2 = list(np.asarray(interested_col2) - 1) #python numbering is starting from 0\n",
        "  #44\n",
        "  interested_col3 = [4,5,6]#extracting the interested columns\n",
        "  interested_col3 = list(np.asarray(interested_col3) - 1) #python numbering is starting from 0\n",
        "  fe = np.empty(0,dtype=int)\n",
        "  for i in range(1,num_loc+1):\n",
        "      \n",
        "      \n",
        "      # Order of the columns are different in some intersections\n",
        "    if i == 3 or i == 4 or i == 20 or i == 27 or i == 32 or i == 53 or i == 56 or i == 59 or i == 71 or i == 93 or i == 94 :\n",
        "          f1 = str(i) + \".csv\"\n",
        "          intersection_fe = np.genfromtxt(f1, delimiter=',',skip_header=1,usecols=interested_col2,filling_values=-1, )\n",
        "          num_rows = intersection_fe.shape[0]\n",
        "          num_data = num_data + num_rows\n",
        "          fe = np.append(fe,intersection_fe)\n",
        "    elif i == 58 or i == 2 :\n",
        "          f2 = str(i) + \".csv\"\n",
        "          intersection_fe = np.genfromtxt(f2, delimiter=',',skip_header=1,usecols=interested_col3,filling_values=-1, )\n",
        "          num_rows = intersection_fe.shape[0]\n",
        "          num_data = num_data + num_rows\n",
        "          fe = np.append(fe,intersection_fe)\n",
        "    else:\n",
        "          f3 = str(i) + \".csv\"\n",
        "          intersection_fe = np.genfromtxt(f3, delimiter=',',skip_header=1,usecols=interested_col1,filling_values=-1, )\n",
        "          num_rows = intersection_fe.shape[0]\n",
        "          num_data = num_data + num_rows\n",
        "          fe = np.append(fe,intersection_fe)\n",
        "            \n",
        "\n",
        "  fe = fe.reshape(num_data,len(interested_col1))\n",
        "  return fe \n",
        "  \n",
        "\n"
      ],
      "execution_count": null,
      "outputs": []
    },
    {
      "cell_type": "code",
      "metadata": {
        "colab": {
          "base_uri": "https://localhost:8080/"
        },
        "id": "A9k1Jq8z127x",
        "outputId": "aca19901-77b3-48ab-d038-fc617785bd6d"
      },
      "source": [
        "d = features_date()\n",
        "print(d.shape)\n",
        "\n"
      ],
      "execution_count": null,
      "outputs": [
        {
          "output_type": "stream",
          "text": [
            "(21293, 3)\n"
          ],
          "name": "stdout"
        }
      ]
    },
    {
      "cell_type": "markdown",
      "metadata": {
        "id": "07Tz12jK5uzr"
      },
      "source": [
        "# Extracting the weather information\n",
        "AWND/ PRCP/ SNOW/ TAVG/ TMAX/ TMIN\n"
      ]
    },
    {
      "cell_type": "code",
      "metadata": {
        "id": "8CZ7xyz89VxR"
      },
      "source": [
        "def features_w():\n",
        "  \n",
        "    num_loc = 94\n",
        "    w = np.empty(0)\n",
        "    dates = np.empty(0,dtype=str)\n",
        "    WS = pd.read_csv('TUS_amazon_csv.csv',header = 6, dtype={'date': str, 'Value': float} ,   ).fillna(0)\n",
        "    WS_np_ = np.array(WS)\n",
        "    WS_np = WS_np_[:,0]\n",
        "\n",
        "    #for i in range(num_loc)\n",
        "    for i in range(1, 1 + num_loc):\n",
        "      W = pd.read_csv(str(i)+'.csv',header = 0, dtype={'date': str, 'Value': float} , )\n",
        "      W_np = np.array(W)\n",
        "      W_np_d = W_np[:,1] \n",
        "     \n",
        " \n",
        "      index = np.empty(0) #index for weather information\n",
        "      for j in range(len(W_np_d)):\n",
        "        id = W_np_d[j]\n",
        "        ind = np.where(WS_np == id)[0][0]  \n",
        "        w = np.append(w,WS_np_[ind,1:7])\n",
        "        dates = np.append(dates,id)\n",
        "      \n",
        "        \n",
        "        \n",
        "    w = w.reshape((-1,6))\n",
        "    # where_are_nans = isnan(w)\n",
        "    # w[where_are_NaNs] = 0\n",
        "\n",
        "    return w , dates.reshape((-1,1))\n"
      ],
      "execution_count": null,
      "outputs": []
    },
    {
      "cell_type": "code",
      "metadata": {
        "colab": {
          "base_uri": "https://localhost:8080/"
        },
        "id": "Fpt3jK2ggSHB",
        "outputId": "c53f4a5c-3193-4316-cc90-6a2167d0c0eb"
      },
      "source": [
        "t , k= features_w()\n",
        "print(t)\n",
        "print(k)"
      ],
      "execution_count": null,
      "outputs": [
        {
          "output_type": "stream",
          "text": [
            "[[3.4 2.8 0.0 18.9 25.0 13.9]\n",
            " [2.7 0.0 0.0 19.1 28.9 12.2]\n",
            " [2.2 0.0 0.0 24.0 32.8 15.6]\n",
            " ...\n",
            " [5.9 0.0 0.0 31.5 35.0 26.1]\n",
            " [3.8 0.0 0.0 27.8 32.8 20.0]\n",
            " [2.7 0.0 0.0 23.8 32.2 13.3]]\n",
            "[['2019-05-12']\n",
            " ['2019-05-13']\n",
            " ['2019-05-14']\n",
            " ...\n",
            " ['2020-09-08']\n",
            " ['2020-09-09']\n",
            " ['2020-09-10']]\n"
          ],
          "name": "stdout"
        }
      ]
    },
    {
      "cell_type": "markdown",
      "metadata": {
        "id": "XTQ3rFOkNyo1"
      },
      "source": [
        "#Alocating STC to each data points\n"
      ]
    },
    {
      "cell_type": "code",
      "metadata": {
        "id": "dE0KOgSHOWgG",
        "colab": {
          "base_uri": "https://localhost:8080/",
          "height": 131
        },
        "outputId": "3037c02e-96b2-4a8f-c5fa-885c5dc7a144"
      },
      "source": [
        "def features_stc():\n",
        "\n",
        "    num_loc = 94\n",
        "    num_data = 0 \n",
        "    w = np.empty(0)\n",
        "    dates = np.empty(0,dtype=str)\n",
        "    stc = np.empty(0,dtype=int)\n",
        "    flags = features_fl()  #extracting the flags for validate the dates\n",
        "    #_,dates = features_w()\n",
        "    WS = pd.read_csv('TUS_amazon_csv.csv',header = 6, dtype={'date': str, 'Value': float} ,   ).fillna(0)\n",
        "\n",
        "\n",
        "    WS = pd.DataFrame(WS)\n",
        "    mask = (WS['2018-01-01'] >= '2019-01-01') & (WS['2018-01-01'] <= '2020-03-16')\n",
        "    WS = WS.loc[mask]\n",
        "\n",
        "    WS_np_ = np.array(WS)\n",
        "    WS_np_dates = WS_np_[:,0]\n",
        "    WS_np_constants = WS_np_[:,13]\n",
        "    ind = np.where(WS_np_constants == 1)[0]\n",
        "    #ind2 = np.where(flags[:,1] == 0 and flags[:,2] == 0)\n",
        "    \n",
        "\n",
        "\n",
        "    valid_stc_days = WS_np_dates[ind]       #this is a list of valid days for STC (strings)\n",
        "\n",
        "    for i in range(1, 1 + num_loc):\n",
        "\n",
        "        if i == 3 or i == 4 or i == 20 or i == 27 or i == 32 or i == 53 or i == 56 or i == 59 or i == 71 or i == 93 or i == 94:\n",
        "            W = pd.read_csv(str(i)+'.csv',header = 0, dtype={'date': str, 'Value': float} , )\n",
        "            W_np = np.array(W)\n",
        "            num_rows = W_np.shape[0]\n",
        "            num_data = num_rows + num_data\n",
        "            W_np_d = W_np[:,1] \n",
        "            valid_days_ind = np.where(W_np[:,113] - W_np[:,114]==0)[0] # f5 = 1 or f6 = 1 --> should be cancelled out\n",
        "            W_np_valid_d = W_np_d[valid_days_ind]\n",
        "\n",
        "            stc_ = np.empty(0) #index for weather information\n",
        "            if len(W_np_valid_d) == 0:\n",
        "              stc_ = 'NOT AV'\n",
        "              stc = np.append(stc,np.tile(stc_,(num_rows,4)))\n",
        "\n",
        "            else:\n",
        "\n",
        "\n",
        "              for j in range(len(W_np_valid_d)):\n",
        "                id = W_np_valid_d[j]\n",
        "                check =  any(item in id for item in valid_stc_days) \n",
        "                #print(check)\n",
        "                if check == True:\n",
        "                    find = W_np_valid_d[j] == W_np_d\n",
        "                    stc_where = np.where(find == 1)[0]\n",
        "                    if len(stc_where)==0:\n",
        "                      continue                   \n",
        "                    stc_ = np.append(stc_,W_np[stc_where,107])\n",
        "                    if len(stc_)==0:\n",
        "                      stc_ = np.ones((5,1)\n",
        "              stc_ch = np.ones((4,1))      \n",
        "              stc_ch[0] = np.mean(stc_)   \n",
        "              stc_ch[1] = np.min(stc_) \n",
        "              stc_ch[2] = np.max(stc_)  \n",
        "              stc_ch[3] = np.random.choice(stc_ ,1)\n",
        "              stc = np.append(stc,np.tile(stc_ch,(num_rows,1)))                              \n",
        "                    \n",
        "            \n",
        "\n",
        "        elif i == 58 or i == 2 :\n",
        "            W = pd.read_csv(str(i)+'.csv',header = 0, dtype={'date': str, 'Value': float} , )\n",
        "            W_np = np.array(W)\n",
        "            num_rows = W_np.shape[0]\n",
        "            num_data = num_rows + num_data\n",
        "            W_np_d = W_np[:,1] \n",
        "            valid_days_ind = np.where(W_np[:,33] - W_np[:,34]==0)[0]\n",
        "            W_np_valid_d = W_np_d[valid_days_ind]\n",
        "\n",
        "            stc_ = np.empty(0) #index for weather information\n",
        "            if len(W_np_valid_d) == 0:\n",
        "              stc_ = 'NOT AV'\n",
        "              stc = np.append(stc,np.tile(stc_,(num_rows,4)))\n",
        "\n",
        "            else:\n",
        "\n",
        "\n",
        "              for j in range(len(W_np_valid_d)):\n",
        "                id = W_np_valid_d[j]\n",
        "                check =  any(item in id for item in valid_stc_days) \n",
        "                #print(check)\n",
        "                if check == True:\n",
        "                    find = W_np_valid_d[j] == W_np_d\n",
        "                    stc_where = np.where(find == 1)[0]\n",
        "                    if len(stc_where)==0:\n",
        "                      continue\n",
        "                    \n",
        "                    stc_ = np.append(stc_,W_np[stc_where,27])\n",
        "                    if len(stc_)==0:\n",
        "                      stc_ = np.ones((5,1))\n",
        "              stc_ch = np.ones((4,1))      \n",
        "              stc_ch[0] = np.mean(stc_)   \n",
        "              stc_ch[1] = np.min(stc_) \n",
        "              stc_ch[2] = np.max(stc_)  \n",
        "              stc_ch[3] = np.random.choice(stc_ ,1)\n",
        "              stc = np.append(stc,np.tile(stc_ch,(num_rows,1)))                    \n",
        "                    \n",
        "\n",
        "\n",
        "        else:\n",
        "            W = pd.read_csv(str(i)+'.csv',header = 0, dtype={'date': str, 'Value': float} , )\n",
        "            W_np = np.array(W)\n",
        "            num_rows = W_np.shape[0]\n",
        "            num_data = num_rows + num_data\n",
        "            W_np_d = W_np[:,1]  \n",
        "            valid_days_ind = np.where(W_np[:,129] - W_np[:,130] == 0)[0]\n",
        "            W_np_valid_d = W_np_d[valid_days_ind]\n",
        "\n",
        "            stc_ = np.empty(0) #index for weather information\n",
        "            if len(W_np_valid_d) == 0:\n",
        "              stc_ = 'NOT AV'\n",
        "              stc = np.append(stc,np.tile(stc_,(num_rows,4)))\n",
        "\n",
        "            else:\n",
        "\n",
        "\n",
        "              for j in range(len(W_np_valid_d)):\n",
        "                id = W_np_valid_d[j]\n",
        "                check =  any(item in id for item in valid_stc_days) \n",
        "                #print(check)\n",
        "                if check == True:\n",
        "                    find = W_np_valid_d[j] == W_np_d\n",
        "                    stc_where = np.where(find == 1)[0]\n",
        "                    if len(stc_where)==0:\n",
        "                      continue\n",
        "\n",
        "                    stc_ = np.append(stc_,W_np[stc_where,123])\n",
        "                    if len(stc_)==0:\n",
        "                      stc_ = np.ones((5,1))\n",
        "              stc_ch = np.ones((4,1))      \n",
        "              stc_ch[0] = np.mean(stc_)   \n",
        "              stc_ch[1] = np.min(stc_) \n",
        "              stc_ch[2] = np.max(stc_)  \n",
        "              stc_ch[3] = np.random.choice(stc_ ,1)\n",
        "              stc = np.append(stc,np.tile(stc_ch,(num_rows,1)))\n",
        "\n",
        "\n",
        "\n",
        "             \n",
        "    \n",
        "    stc = stc.reshape(-1,4)\n",
        "    return  stc\n"
      ],
      "execution_count": null,
      "outputs": [
        {
          "output_type": "error",
          "ename": "SyntaxError",
          "evalue": "ignored",
          "traceback": [
            "\u001b[0;36m  File \u001b[0;32m\"<ipython-input-251-b2fa05697da3>\"\u001b[0;36m, line \u001b[0;32m58\u001b[0m\n\u001b[0;31m    stc_ch = np.ones((4,1))\u001b[0m\n\u001b[0m         ^\u001b[0m\n\u001b[0;31mSyntaxError\u001b[0m\u001b[0;31m:\u001b[0m invalid syntax\n"
          ]
        }
      ]
    },
    {
      "cell_type": "code",
      "metadata": {
        "id": "E_OJJ0OiBOnD"
      },
      "source": [
        "def features_stc2():   \r\n",
        "    num_loc = 94\r\n",
        "    num_data = 0 \r\n",
        "    stc = np.empty(0,dtype=int)\r\n",
        "    flags = features_fl()  #extracting the flags for validate the dates\r\n",
        "    #_,dates = features_w()\r\n",
        "    WS = pd.read_csv('TUS_amazon_csv.csv',header = 6, dtype={'date': str, 'Value': float} ,   ).fillna(0)\r\n",
        "    WS = pd.DataFrame(WS)\r\n",
        "    mask = (WS['2018-01-01'] >= '2019-01-01') & (WS['2018-01-01'] <= '2020-03-16')\r\n",
        "    WS = WS.loc[mask]\r\n",
        "    WS_np_ = np.array(WS)\r\n",
        "    WS_np_dates = WS_np_[:,0]\r\n",
        "    WS_np_constants = WS_np_[:,13]\r\n",
        "    ind = np.where(WS_np_constants == 1)[0]\r\n",
        "    #ind2 = np.where(flags[:,1] == 0 and flags[:,2] == 0)\r\n",
        "    valid_stc_days = WS_np_dates[ind]       #this is a list of valid days for STC (strings)\r\n",
        "\r\n",
        "    for i in range(1, 95):\r\n",
        "        \r\n",
        "      W = pd.read_csv(str(i)+'.csv',header = 0, dtype={'date': str, 'Value': float} , )\r\n",
        "      W_np = pd.DataFrame(W)\r\n",
        "      num_rows = W_np.shape[0]\r\n",
        "      num_data = num_rows + num_data\r\n",
        "      W_np_d = W_np['date'] \r\n",
        "      mask2 = (W_np['date'] >= '2019-01-01') & (W_np['date'] <= '2020-03-16')\r\n",
        "\r\n",
        "\r\n",
        "      \r\n",
        "      W_np = W_np.loc[mask2].reset_index(drop=True)\r\n",
        "      valid_days_ind = np.where(W_np['f5'] - W_np['f6']==0)[0] # f5 = 1 or f6 = 1 --> should be cancelled out\r\n",
        "      W_np_valid_d = W_np['date'][valid_days_ind]\r\n",
        "      W_np_valid_d = W_np_valid_d.reset_index(drop = True)\r\n",
        "\r\n",
        "      stc_ = np.empty(0) #index for weather information\r\n",
        "      if len(W_np_valid_d) == 0:\r\n",
        "        stc_ = 'NOT AV'\r\n",
        "        stc = np.append(stc,np.tile(stc_,(num_rows,4)))\r\n",
        "\r\n",
        "      else:\r\n",
        "\r\n",
        "\r\n",
        "        for j in range(len(W_np_valid_d)):\r\n",
        "          id = W_np_valid_d[j]\r\n",
        "          check =  any(item in id for item in valid_stc_days) \r\n",
        "          #print(check)\r\n",
        "          if check == True:\r\n",
        "              find = W_np_valid_d[j] == W_np_d\r\n",
        "              stc_where = np.where(find == 1)[0]                   \r\n",
        "              stc_ = np.append(stc_,W['total_PED'][stc_where].values)\r\n",
        "\r\n",
        "        stc_ch = np.zeros((1,4)) \r\n",
        "        if len(stc_) == 0:\r\n",
        "          \r\n",
        "          stc = np.append(stc,np.tile(stc_ch,(num_rows,1)))\r\n",
        "        else:\r\n",
        "\r\n",
        "          stc_ch[0][0] = np.mean(stc_)   \r\n",
        "          stc_ch[0][1] = np.min(stc_) \r\n",
        "          stc_ch[0][2] = np.max(stc_)  \r\n",
        "          stc_ch[0][3] = np.random.choice(stc_ ,1)\r\n",
        "          stc = np.append(stc,np.tile(stc_ch,(num_rows,1)))\r\n",
        "\r\n",
        "    stc = stc.reshape(-1,4)  \r\n",
        "    return stc    \r\n",
        "\r\n",
        "       \r\n"
      ],
      "execution_count": null,
      "outputs": []
    },
    {
      "cell_type": "code",
      "metadata": {
        "colab": {
          "base_uri": "https://localhost:8080/"
        },
        "id": "RV0DYVWe1WYT",
        "outputId": "c6204c70-bb14-4114-c5b1-63a9038fa3d2"
      },
      "source": [
        "print(stc.shape)\r\n",
        "print(stc_)\r\n",
        "print(num_rows)\r\n",
        "print(valid_days_ind)\r\n",
        "W_np['f5']"
      ],
      "execution_count": null,
      "outputs": [
        {
          "output_type": "stream",
          "text": [
            "(21293, 4)\n",
            "NOT AV\n",
            "121\n",
            "[]\n"
          ],
          "name": "stdout"
        },
        {
          "output_type": "execute_result",
          "data": {
            "text/plain": [
              "Series([], Name: f5, dtype: int64)"
            ]
          },
          "metadata": {
            "tags": []
          },
          "execution_count": 246
        }
      ]
    },
    {
      "cell_type": "markdown",
      "metadata": {
        "id": "V2ERcGjzOoMJ"
      },
      "source": [
        "# Extracting the flags\n"
      ]
    },
    {
      "cell_type": "code",
      "metadata": {
        "id": "1zSJPXiNOzxe"
      },
      "source": [
        "def features_fl():\n",
        "\n",
        "  num_loc = 94  #number of intersections\n",
        "  num_data = 0  #number of all of the data points\n",
        "  \n",
        "  #140\n",
        "  interested_col1 = [130,131]#extracting the interested columns\n",
        "  interested_col1 = list(np.asarray(interested_col1) - 1) #python numbering is starting from 0\n",
        "  #124\n",
        "  interested_col2 = [114,115]#extracting the interested columns\n",
        "  interested_col2 = list(np.asarray(interested_col2) - 1) #python numbering is starting from 0\n",
        "  #44\n",
        "  interested_col3 = [34,35]#extracting the interested columns\n",
        "  interested_col3 = list(np.asarray(interested_col3) - 1) #python numbering is starting from 0\n",
        "  fe = np.empty(0)\n",
        "  for i in range(1,num_loc+1):\n",
        "      \n",
        "      \n",
        "      # Order of the columns are different in some intersections\n",
        "    if i == 3 or i == 4 or i == 20 or i == 27 or i == 32 or i == 53 or i == 56 or i == 59 or i == 71 or i == 93 or i == 94 :\n",
        "          f1 = str(i) + \".csv\"\n",
        "          intersection_fe = np.genfromtxt(f1, delimiter=',',skip_header=1,usecols=interested_col2,filling_values=-1, )\n",
        "          num_rows = intersection_fe.shape[0]\n",
        "          num_data = num_data + num_rows\n",
        "          fe = np.append(fe,intersection_fe)\n",
        "    elif i == 58 or i == 2 :\n",
        "          f2 = str(i) + \".csv\"\n",
        "          intersection_fe = np.genfromtxt(f2, delimiter=',',skip_header=1,usecols=interested_col3,filling_values=-1, )\n",
        "          num_rows = intersection_fe.shape[0]\n",
        "          num_data = num_data + num_rows\n",
        "          fe = np.append(fe,intersection_fe)\n",
        "    else:\n",
        "          f3 = str(i) + \".csv\"\n",
        "          intersection_fe = np.genfromtxt(f3, delimiter=',',skip_header=1,usecols=interested_col1,filling_values=-1, )\n",
        "          num_rows = intersection_fe.shape[0]\n",
        "          num_data = num_data + num_rows\n",
        "          fe = np.append(fe,intersection_fe)\n",
        "            \n",
        "\n",
        "  fe = fe.reshape(num_data,len(interested_col1))\n",
        "  return fe \n",
        "  "
      ],
      "execution_count": null,
      "outputs": []
    },
    {
      "cell_type": "code",
      "metadata": {
        "colab": {
          "base_uri": "https://localhost:8080/"
        },
        "id": "Qtb9APhLP8qO",
        "outputId": "e08aaa62-3aad-45d2-e1a5-7f012b0aff29"
      },
      "source": [
        "a = features_fl()\n",
        "print(a)"
      ],
      "execution_count": null,
      "outputs": [
        {
          "output_type": "stream",
          "text": [
            "[[1. 0.]\n",
            " [0. 0.]\n",
            " [0. 0.]\n",
            " ...\n",
            " [0. 0.]\n",
            " [0. 0.]\n",
            " [0. 0.]]\n"
          ],
          "name": "stdout"
        }
      ]
    },
    {
      "cell_type": "markdown",
      "metadata": {
        "id": "TZJGILiCnQUn"
      },
      "source": [
        "# Number of stations\n"
      ]
    },
    {
      "cell_type": "code",
      "metadata": {
        "id": "JT-U1rbNnUmr"
      },
      "source": [
        "def features_num():\n",
        "  \n",
        "    num_loc = 94\n",
        "    num = np.empty(0)\n",
        "\n",
        "    #for i in range(num_loc)\n",
        "    for i in range(1, 1 + num_loc):\n",
        "      W = pd.read_csv(str(i)+'.csv',header = 0, dtype={'date': str, 'Value': float} , )\n",
        "      num_data = np.array(W).shape[0]\n",
        "      num = np.append(num,np.tile(i,(num_data,1)))\n",
        "     \n",
        " \n",
        "      \n",
        "        \n",
        "        \n",
        "    num = num.reshape((-1,1))\n",
        "\n",
        "\n",
        "    return num"
      ],
      "execution_count": null,
      "outputs": []
    },
    {
      "cell_type": "code",
      "metadata": {
        "id": "j3RXHW0ZpNf7"
      },
      "source": [
        "t = features_num()\n",
        "print(t)\n"
      ],
      "execution_count": null,
      "outputs": []
    },
    {
      "cell_type": "markdown",
      "metadata": {
        "id": "iUv0rUwi9-c7"
      },
      "source": [
        "# Main Code\n",
        "puting all the features plus short term count value and pedestrian counts in a matrix."
      ]
    },
    {
      "cell_type": "code",
      "metadata": {
        "colab": {
          "base_uri": "https://localhost:8080/",
          "height": 522
        },
        "id": "BIE_v4hQ_Krz",
        "outputId": "32ced244-a94d-4cff-d2f3-0372497bc69f"
      },
      "source": [
        "lu = features_lu()\n",
        "d = features_date()\n",
        "w , dates= features_w()\n",
        "stc = features_stc()\n",
        "flags = features_fl()\n",
        "num = features_num()\n",
        "dp = features_dp()\n",
        "arizona = np.concatenate((num,dates,dp,d,w,lu,stc,flags), axis = 1)\n",
        "print(arizona)\n",
        "np.savetxt('arizona_before_covid.csv', arizona, delimiter=',', fmt='%s',  )\n",
        "\n",
        "\n",
        "\n",
        "\n",
        "\n",
        "\n"
      ],
      "execution_count": null,
      "outputs": [
        {
          "output_type": "stream",
          "text": [
            "/usr/local/lib/python3.6/dist-packages/numpy/core/fromnumeric.py:3335: RuntimeWarning: Mean of empty slice.\n",
            "  out=out, **kwargs)\n",
            "/usr/local/lib/python3.6/dist-packages/numpy/core/_methods.py:161: RuntimeWarning: invalid value encountered in double_scalars\n",
            "  ret = ret.dtype.type(ret / rcount)\n"
          ],
          "name": "stderr"
        },
        {
          "output_type": "error",
          "ename": "ValueError",
          "evalue": "ignored",
          "traceback": [
            "\u001b[0;31m---------------------------------------------------------------------------\u001b[0m",
            "\u001b[0;31mValueError\u001b[0m                                Traceback (most recent call last)",
            "\u001b[0;32m<ipython-input-43-7e64fe143320>\u001b[0m in \u001b[0;36m<module>\u001b[0;34m()\u001b[0m\n\u001b[1;32m      2\u001b[0m \u001b[0md\u001b[0m \u001b[0;34m=\u001b[0m \u001b[0mfeatures_date\u001b[0m\u001b[0;34m(\u001b[0m\u001b[0;34m)\u001b[0m\u001b[0;34m\u001b[0m\u001b[0;34m\u001b[0m\u001b[0m\n\u001b[1;32m      3\u001b[0m \u001b[0mw\u001b[0m \u001b[0;34m,\u001b[0m \u001b[0mdates\u001b[0m\u001b[0;34m=\u001b[0m \u001b[0mfeatures_w\u001b[0m\u001b[0;34m(\u001b[0m\u001b[0;34m)\u001b[0m\u001b[0;34m\u001b[0m\u001b[0;34m\u001b[0m\u001b[0m\n\u001b[0;32m----> 4\u001b[0;31m \u001b[0mstc\u001b[0m \u001b[0;34m=\u001b[0m \u001b[0mfeatures_stc\u001b[0m\u001b[0;34m(\u001b[0m\u001b[0;34m)\u001b[0m\u001b[0;34m\u001b[0m\u001b[0;34m\u001b[0m\u001b[0m\n\u001b[0m\u001b[1;32m      5\u001b[0m \u001b[0mflags\u001b[0m \u001b[0;34m=\u001b[0m \u001b[0mfeatures_fl\u001b[0m\u001b[0;34m(\u001b[0m\u001b[0;34m)\u001b[0m\u001b[0;34m\u001b[0m\u001b[0;34m\u001b[0m\u001b[0m\n\u001b[1;32m      6\u001b[0m \u001b[0mnum\u001b[0m \u001b[0;34m=\u001b[0m \u001b[0mfeatures_num\u001b[0m\u001b[0;34m(\u001b[0m\u001b[0;34m)\u001b[0m\u001b[0;34m\u001b[0m\u001b[0;34m\u001b[0m\u001b[0m\n",
            "\u001b[0;32m<ipython-input-39-4a1b09c8e970>\u001b[0m in \u001b[0;36mfeatures_stc\u001b[0;34m()\u001b[0m\n\u001b[1;32m     54\u001b[0m               \u001b[0mstc_ch\u001b[0m \u001b[0;34m=\u001b[0m \u001b[0mnp\u001b[0m\u001b[0;34m.\u001b[0m\u001b[0mzeros\u001b[0m\u001b[0;34m(\u001b[0m\u001b[0;34m(\u001b[0m\u001b[0;36m4\u001b[0m\u001b[0;34m,\u001b[0m\u001b[0;36m1\u001b[0m\u001b[0;34m)\u001b[0m\u001b[0;34m)\u001b[0m\u001b[0;34m\u001b[0m\u001b[0;34m\u001b[0m\u001b[0m\n\u001b[1;32m     55\u001b[0m               \u001b[0mstc_ch\u001b[0m\u001b[0;34m[\u001b[0m\u001b[0;36m0\u001b[0m\u001b[0;34m]\u001b[0m \u001b[0;34m=\u001b[0m \u001b[0mnp\u001b[0m\u001b[0;34m.\u001b[0m\u001b[0mmean\u001b[0m\u001b[0;34m(\u001b[0m\u001b[0mstc_\u001b[0m\u001b[0;34m)\u001b[0m\u001b[0;34m\u001b[0m\u001b[0;34m\u001b[0m\u001b[0m\n\u001b[0;32m---> 56\u001b[0;31m               \u001b[0mstc_ch\u001b[0m\u001b[0;34m[\u001b[0m\u001b[0;36m1\u001b[0m\u001b[0;34m]\u001b[0m \u001b[0;34m=\u001b[0m \u001b[0mnp\u001b[0m\u001b[0;34m.\u001b[0m\u001b[0mmin\u001b[0m\u001b[0;34m(\u001b[0m\u001b[0mstc_\u001b[0m\u001b[0;34m)\u001b[0m\u001b[0;34m\u001b[0m\u001b[0;34m\u001b[0m\u001b[0m\n\u001b[0m\u001b[1;32m     57\u001b[0m               \u001b[0mstc_ch\u001b[0m\u001b[0;34m[\u001b[0m\u001b[0;36m2\u001b[0m\u001b[0;34m]\u001b[0m \u001b[0;34m=\u001b[0m \u001b[0mnp\u001b[0m\u001b[0;34m.\u001b[0m\u001b[0mmax\u001b[0m\u001b[0;34m(\u001b[0m\u001b[0mstc_\u001b[0m\u001b[0;34m)\u001b[0m\u001b[0;34m\u001b[0m\u001b[0;34m\u001b[0m\u001b[0m\n\u001b[1;32m     58\u001b[0m               \u001b[0mstc_ch\u001b[0m\u001b[0;34m[\u001b[0m\u001b[0;36m3\u001b[0m\u001b[0;34m]\u001b[0m \u001b[0;34m=\u001b[0m \u001b[0mnp\u001b[0m\u001b[0;34m.\u001b[0m\u001b[0mrandom\u001b[0m\u001b[0;34m.\u001b[0m\u001b[0mchoice\u001b[0m\u001b[0;34m(\u001b[0m\u001b[0mstc_\u001b[0m \u001b[0;34m,\u001b[0m\u001b[0;36m1\u001b[0m\u001b[0;34m)\u001b[0m\u001b[0;34m\u001b[0m\u001b[0;34m\u001b[0m\u001b[0m\n",
            "\u001b[0;32m<__array_function__ internals>\u001b[0m in \u001b[0;36mamin\u001b[0;34m(*args, **kwargs)\u001b[0m\n",
            "\u001b[0;32m/usr/local/lib/python3.6/dist-packages/numpy/core/fromnumeric.py\u001b[0m in \u001b[0;36mamin\u001b[0;34m(a, axis, out, keepdims, initial, where)\u001b[0m\n\u001b[1;32m   2791\u001b[0m     \"\"\"\n\u001b[1;32m   2792\u001b[0m     return _wrapreduction(a, np.minimum, 'min', axis, None, out,\n\u001b[0;32m-> 2793\u001b[0;31m                           keepdims=keepdims, initial=initial, where=where)\n\u001b[0m\u001b[1;32m   2794\u001b[0m \u001b[0;34m\u001b[0m\u001b[0m\n\u001b[1;32m   2795\u001b[0m \u001b[0;34m\u001b[0m\u001b[0m\n",
            "\u001b[0;32m/usr/local/lib/python3.6/dist-packages/numpy/core/fromnumeric.py\u001b[0m in \u001b[0;36m_wrapreduction\u001b[0;34m(obj, ufunc, method, axis, dtype, out, **kwargs)\u001b[0m\n\u001b[1;32m     88\u001b[0m                 \u001b[0;32mreturn\u001b[0m \u001b[0mreduction\u001b[0m\u001b[0;34m(\u001b[0m\u001b[0maxis\u001b[0m\u001b[0;34m=\u001b[0m\u001b[0maxis\u001b[0m\u001b[0;34m,\u001b[0m \u001b[0mout\u001b[0m\u001b[0;34m=\u001b[0m\u001b[0mout\u001b[0m\u001b[0;34m,\u001b[0m \u001b[0;34m**\u001b[0m\u001b[0mpasskwargs\u001b[0m\u001b[0;34m)\u001b[0m\u001b[0;34m\u001b[0m\u001b[0;34m\u001b[0m\u001b[0m\n\u001b[1;32m     89\u001b[0m \u001b[0;34m\u001b[0m\u001b[0m\n\u001b[0;32m---> 90\u001b[0;31m     \u001b[0;32mreturn\u001b[0m \u001b[0mufunc\u001b[0m\u001b[0;34m.\u001b[0m\u001b[0mreduce\u001b[0m\u001b[0;34m(\u001b[0m\u001b[0mobj\u001b[0m\u001b[0;34m,\u001b[0m \u001b[0maxis\u001b[0m\u001b[0;34m,\u001b[0m \u001b[0mdtype\u001b[0m\u001b[0;34m,\u001b[0m \u001b[0mout\u001b[0m\u001b[0;34m,\u001b[0m \u001b[0;34m**\u001b[0m\u001b[0mpasskwargs\u001b[0m\u001b[0;34m)\u001b[0m\u001b[0;34m\u001b[0m\u001b[0;34m\u001b[0m\u001b[0m\n\u001b[0m\u001b[1;32m     91\u001b[0m \u001b[0;34m\u001b[0m\u001b[0m\n\u001b[1;32m     92\u001b[0m \u001b[0;34m\u001b[0m\u001b[0m\n",
            "\u001b[0;31mValueError\u001b[0m: zero-size array to reduction operation minimum which has no identity"
          ]
        }
      ]
    },
    {
      "cell_type": "code",
      "metadata": {
        "id": "LfqFquPPdomg"
      },
      "source": [
        "stc2 = features_stc2()\r\n",
        "np.savetxt('stc_before_covid.csv', stc2, delimiter=',', fmt='%s',  )"
      ],
      "execution_count": null,
      "outputs": []
    },
    {
      "cell_type": "code",
      "metadata": {
        "colab": {
          "base_uri": "https://localhost:8080/"
        },
        "id": "UasXbT86eecu",
        "outputId": "1cf19cb9-ca8c-411b-a6a2-950bb763ae8f"
      },
      "source": [
        "stc2.shape"
      ],
      "execution_count": null,
      "outputs": [
        {
          "output_type": "execute_result",
          "data": {
            "text/plain": [
              "(21293, 4)"
            ]
          },
          "metadata": {
            "tags": []
          },
          "execution_count": 253
        }
      ]
    }
  ]
}